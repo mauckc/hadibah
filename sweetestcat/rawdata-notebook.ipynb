{
 "cells": [
  {
   "cell_type": "code",
   "execution_count": 37,
   "metadata": {},
   "outputs": [
    {
     "name": "stdout",
     "output_type": "stream",
     "text": [
      "[(0, 'A1433734'), (1, 'DOG'), (2, 'N'), (3, 'MALTESE'), (4, '01/01/2015'), (5, '1'), (6, '0.00'), (7, '1.1'), (8, 'STRAY'), (9, 'SANTA ANA'), (10, '01/01/2016'), (11, '11:36 am'), (12, 'NORMAL'), (13, 'SANTA ANA.1'), (14, 'FLOWER/CHESTNUT'), (15, 'ADOPTION'), (16, 'DOG 5'), (17, '01/08/2016'), (18, ' 2:53 pm'), (19, 'Unnamed: 19')]\n"
     ]
    }
   ],
   "source": [
    "import numpy as np\n",
    "import pandas as pd\n",
    "import csv\n",
    "import os\n",
    "\n",
    "df = pd.read_csv('./data/010116 through 100118.csv',)\n",
    "\n",
    "# print(df.head())\n",
    "# print(df.dropna(axis=1).head())\n",
    "\n",
    "# df = df.dropna(axis=1)\n",
    "# df = df.dropna(axis=0)\n",
    "\n",
    "print(list((enumerate(df.columns))))\n"
   ]
  },
  {
   "cell_type": "code",
   "execution_count": 42,
   "metadata": {},
   "outputs": [
    {
     "name": "stdout",
     "output_type": "stream",
     "text": [
      "['A1433734', 'DOG', 'N', 'MALTESE', '01/01/2015', '1', '0.00', '1.1', 'STRAY', 'SANTA ANA', '01/01/2016', '11:36 am', 'NORMAL', 'SANTA ANA.1', 'FLOWER/CHESTNUT', 'ADOPTION', 'DOG 5', '01/08/2016', ' 2:53 pm', 'Unnamed: 19']\n"
     ]
    }
   ],
   "source": [
    "print(list((df.columns)))"
   ]
  },
  {
   "cell_type": "code",
   "execution_count": 41,
   "metadata": {},
   "outputs": [
    {
     "data": {
      "text/plain": [
       "['CLIENT_ID',\n",
       " 'IMPOUND_NO',\n",
       " 'ANIMAL_ID',\n",
       " 'ANIMAL_TYPE',\n",
       " 'DOB',\n",
       " 'INTAKE_DATE',\n",
       " 'INTAKE_TYPE',\n",
       " 'INTAKE_SUBTYPE',\n",
       " 'KENNEL_NO',\n",
       " 'SEX',\n",
       " 'INTAKE_COND',\n",
       " 'BEHAVIOR_COND',\n",
       " 'DUE_OUT_DATE',\n",
       " 'WEIGHT',\n",
       " 'WEIGHT_1_WEEK',\n",
       " '1ST_VACC',\n",
       " '1ST_VACC_DATE',\n",
       " '2ND_VACC',\n",
       " '2ND VACC_DATE',\n",
       " 'S_N_DATE',\n",
       " 'LOCATION_1',\n",
       " 'LOCATION_1_DATE',\n",
       " 'LOCATION_2',\n",
       " 'LOCATION_2_DATE',\n",
       " 'OUTCOME_DATE',\n",
       " 'OUTCOME_TYPE',\n",
       " 'OUTCOME_SUBTYPE',\n",
       " 'OUTCOME_COND',\n",
       " 'OUTCOME_BEHAVIOR_COND',\n",
       " 'EUTH_REASON',\n",
       " 'DIAGNOSIS',\n",
       " 'DIAGNOSIS_DATE',\n",
       " 'RESOLVED_DATE',\n",
       " 'FOSTER_DATE',\n",
       " 'FOSTER_REASON',\n",
       " 'FOSTER_HEALTH_STATUS',\n",
       " 'PRIMARY BREED',\n",
       " 'SECONDARY BREED']"
      ]
     },
     "execution_count": 41,
     "metadata": {},
     "output_type": "execute_result"
    }
   ],
   "source": [
    "[\"CLIENT_ID\",\n",
    "\"IMPOUND_NO\",\n",
    "\"ANIMAL_ID\",\n",
    "\"ANIMAL_TYPE\",\n",
    "\"DOB\",\n",
    "\"INTAKE_DATE\",\n",
    "\"INTAKE_TYPE\",\n",
    "\"INTAKE_SUBTYPE\",\n",
    "\"KENNEL_NO\",\n",
    "\"SEX\",\n",
    "\"INTAKE_COND\",\n",
    "\"BEHAVIOR_COND\",\n",
    "\"DUE_OUT_DATE\",\n",
    "\"WEIGHT\",\n",
    "\"WEIGHT_1_WEEK\",\n",
    "\"1ST_VACC\",\n",
    "\"1ST_VACC_DATE\",\n",
    "\"2ND_VACC\",\n",
    "\"2ND VACC_DATE\",\n",
    "\"S_N_DATE\",\n",
    "\"LOCATION_1\",\n",
    "\"LOCATION_1_DATE\",\n",
    "\"LOCATION_2\",\n",
    "\"LOCATION_2_DATE\",\n",
    "\"OUTCOME_DATE\",\n",
    "\"OUTCOME_TYPE\",\n",
    "\"OUTCOME_SUBTYPE\",\n",
    "\"OUTCOME_COND\",\n",
    "\"OUTCOME_BEHAVIOR_COND\",\n",
    "\"EUTH_REASON\",\n",
    "\"DIAGNOSIS\",\n",
    "\"DIAGNOSIS_DATE\",\n",
    "\"RESOLVED_DATE\",\n",
    "\"FOSTER_DATE\",\n",
    "\"FOSTER_REASON\",\n",
    "\"FOSTER_HEALTH_STATUS\",\n",
    "\"PRIMARY BREED\",\n",
    "\"SECONDARY BREED\"]"
   ]
  },
  {
   "cell_type": "code",
   "execution_count": null,
   "metadata": {},
   "outputs": [],
   "source": []
  },
  {
   "cell_type": "code",
   "execution_count": null,
   "metadata": {},
   "outputs": [],
   "source": [
    "headers = df.columns\n",
    "for head in headers:\n",
    "print(list((enumerate(df.columns))))"
   ]
  },
  {
   "cell_type": "code",
   "execution_count": 31,
   "metadata": {},
   "outputs": [
    {
     "name": "stdout",
     "output_type": "stream",
     "text": [
      "['UC Davis KE5 010118-100118.csv', 'UC Davis KE5 010117-123117.csv', 'UC Davis KE5 010118-100118 copy.csv', '010116 through 100118.csv', 'UC Davis KE5 010116-123116.csv']\n"
     ]
    }
   ],
   "source": [
    "mypath = './data/'\n",
    "f = []\n",
    "for (dirpath, dirnames, filenames) in os.walk(mypath):\n",
    "    f.extend(filenames)\n",
    "    break\n",
    "print f"
   ]
  },
  {
   "cell_type": "code",
   "execution_count": 29,
   "metadata": {},
   "outputs": [
    {
     "data": {
      "text/plain": [
       "['UC Davis KE5 010118-100118.csv',\n",
       " 'UC Davis KE5 010117-123117.csv',\n",
       " 'UC Davis KE5 010118-100118 copy.csv',\n",
       " '010116 through 100118.csv',\n",
       " 'UC Davis KE5 010116-123116.csv']"
      ]
     },
     "execution_count": 29,
     "metadata": {},
     "output_type": "execute_result"
    }
   ],
   "source": []
  },
  {
   "cell_type": "code",
   "execution_count": 14,
   "metadata": {},
   "outputs": [],
   "source": [
    "rawYear_cols = ['CLIENT_ID', 'IMPOUND_NO', 'ANIMAL_ID', 'ANIMAL_TYPE', 'DOB', 'INTAKE_DATE', 'INTAKE_TYPE', 'INTAKE_SUBTYPE', 'KENNEL_NO', 'SEX', 'INTAKE_COND', 'BEHAVIOR_COND', 'DUE_OUT_DATE', 'WEIGHT', 'WEIGHT_1_WEEK', '1ST_VACC', '1ST_VACC_DATE', '2ND_VACC', '2ND VACC_DATE', 'S_N_DATE', 'LOCATION_1', 'LOCATION_1_DATE', 'LOCATION_2', 'LOCATION_2_DATE', 'OUTCOME_DATE', 'OUTCOME_TYPE', 'OUTCOME_SUBTYPE', 'OUTCOME_COND', 'OUTCOME_BEHAVIOR_COND', 'EUTH_REASON', 'DIAGNOSIS', 'DIAGNOSIS_DATE', 'RESOLVED_DATE', 'FOSTER_DATE', 'FOSTER_REASON', 'FOSTER_HEALTH_STATUS', 'PRIMARY BREED', 'SECONDARY BREED', 'ORNG', 'K18-______', 'A1564077', 'CAT', '02/23/2018', 'STRAY', 'FIELD', 'TRUCK5', 'M', 'DEAD', '2/23/2018   7:35:00AM', 'DOMESTIC SH']"
   ]
  },
  {
   "cell_type": "code",
   "execution_count": 6,
   "metadata": {},
   "outputs": [
    {
     "data": {
      "text/plain": [
       "Index([u'CLIENT_ID', u'IMPOUND_NO', u'ANIMAL_ID', u'ANIMAL_TYPE', u'DOB',\n",
       "       u'INTAKE_DATE', u'INTAKE_TYPE', u'INTAKE_SUBTYPE', u'KENNEL_NO', u'SEX',\n",
       "       u'INTAKE_COND', u'BEHAVIOR_COND', u'DUE_OUT_DATE', u'WEIGHT',\n",
       "       u'WEIGHT_1_WEEK', u'1ST_VACC', u'1ST_VACC_DATE', u'2ND_VACC',\n",
       "       u'2ND VACC_DATE', u'S_N_DATE', u'LOCATION_1', u'LOCATION_1_DATE',\n",
       "       u'LOCATION_2', u'LOCATION_2_DATE', u'OUTCOME_DATE', u'OUTCOME_TYPE',\n",
       "       u'OUTCOME_SUBTYPE', u'OUTCOME_COND', u'OUTCOME_BEHAVIOR_COND',\n",
       "       u'EUTH_REASON', u'DIAGNOSIS', u'DIAGNOSIS_DATE', u'RESOLVED_DATE',\n",
       "       u'FOSTER_DATE', u'FOSTER_REASON', u'FOSTER_HEALTH_STATUS',\n",
       "       u'PRIMARY BREED', u'SECONDARY BREED', u'ORNG', u'K18-______',\n",
       "       u'A1564077', u'CAT', u'02/23/2018', u'STRAY', u'FIELD', u'TRUCK5', u'M',\n",
       "       u'DEAD', u'2/23/2018   7:35:00AM', u'DOMESTIC SH'],\n",
       "      dtype='object')"
      ]
     },
     "execution_count": 6,
     "metadata": {},
     "output_type": "execute_result"
    }
   ],
   "source": [
    "df.columns"
   ]
  },
  {
   "cell_type": "code",
   "execution_count": null,
   "metadata": {},
   "outputs": [],
   "source": []
  }
 ],
 "metadata": {
  "kernelspec": {
   "display_name": "Python 2",
   "language": "python",
   "name": "python2"
  },
  "language_info": {
   "codemirror_mode": {
    "name": "ipython",
    "version": 2
   },
   "file_extension": ".py",
   "mimetype": "text/x-python",
   "name": "python",
   "nbconvert_exporter": "python",
   "pygments_lexer": "ipython2",
   "version": "2.7.15"
  }
 },
 "nbformat": 4,
 "nbformat_minor": 2
}
